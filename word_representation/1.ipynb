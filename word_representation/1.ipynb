{
  "cells": [
    {
      "cell_type": "code",
      "execution_count": 2,
      "metadata": {
        "id": "V4bgD6E7OFpY"
      },
      "outputs": [],
      "source": [
        "import pandas as pd\n",
        "import numpy as np\n",
        "import regex as re\n",
        "import string\n",
        "import nltk\n",
        "from sklearn.feature_extraction.text import TfidfVectorizer\n",
        "from gensim.models import Word2Vec\n",
        "from sklearn.manifold import TSNE\n",
        "import matplotlib.pyplot as plt\n",
        "from sklearn.feature_extraction.text import ENGLISH_STOP_WORDS"
      ]
    },
    {
      "cell_type": "code",
      "execution_count": null,
      "metadata": {
        "colab": {
          "base_uri": "https://localhost:8080/"
        },
        "id": "SbSjEFK2MnQd",
        "outputId": "c43b67b1-b1d2-4843-e456-349db04a9573"
      },
      "outputs": [
        {
          "name": "stdout",
          "output_type": "stream",
          "text": [
            "Warning: Looks like you're using an outdated `kagglehub` version (installed: 0.3.6), please consider upgrading to the latest version (0.3.7).\n"
          ]
        }
      ],
      "source": [
        "import kagglehub\n",
        "\n",
        "# Download latest version\n",
        "data_path = kagglehub.dataset_download(\"manann/quotes-500k\")"
      ]
    },
    {
      "cell_type": "code",
      "execution_count": null,
      "metadata": {
        "id": "XhYbVF9BVIiU"
      },
      "outputs": [],
      "source": [
        "df = pd.read_csv(data_path + \"/quotes.csv\")\n",
        "df.columns = [\"quote\", \"author\", \"category\"]"
      ]
    },
    {
      "cell_type": "code",
      "execution_count": null,
      "metadata": {
        "colab": {
          "base_uri": "https://localhost:8080/",
          "height": 105
        },
        "id": "q0yJe8y0OIkm",
        "outputId": "54ca341c-8c1c-4c4f-fb20-7a1cd6e45266"
      },
      "outputs": [],
      "source": [
        "# most authors have a \",\" and then where the quote is from.\n",
        "# So splitting with \",\" and keeping only the first part seems like the right choice.\n",
        "df[\"author\"] = df[\"author\"]\\\n",
        "    .astype(str).str.split(\",\").\\\n",
        "    str[0].apply(lambda x: re.sub(f\"[{string.punctuation}]\", \"\", x)).\\\n",
        "    str.strip()\n",
        "\n",
        "def preprocess_quote(text):\n",
        "    # Convert the input to string to handle potential float values\n",
        "    text = str(text)\n",
        "    text = text.lower()\n",
        "    text = re.sub(f\"[{string.punctuation}]\", \"\", text)\n",
        "    tokens = text.split()\n",
        "    tokens = [word for word in tokens if word not in ENGLISH_STOP_WORDS and len(word) >= 4]\n",
        "    return \" \".join(tokens)\n",
        "\n",
        "df[\"processed_quote\"] = df[\"quote\"].apply(preprocess_quote)\n",
        "\n",
        "\n",
        "# Group quotes by author\n",
        "author_texts = df.groupby(\"author\")[\"processed_quote\"].apply(lambda x: \" \".join(x)).to_dict()\n",
        "\n",
        "\n",
        "# dropping all empty data\n",
        "df = df.dropna(subset=[\"author\", \"quote\"])\n",
        "\n",
        "# grouping quotes by authors\n",
        "author_texts = df.groupby(\"author\")[\"quote\"].apply(\" \".join).to_dict()\n",
        "\n",
        "def print_frequencies(author_texts, author):\n"
      ]
    },
    {
      "cell_type": "code",
      "execution_count": null,
      "metadata": {
        "id": "2KfQpy1pWxNl"
      },
      "outputs": [],
      "source": []
    }
  ],
  "metadata": {
    "colab": {
      "provenance": []
    },
    "kernelspec": {
      "display_name": "Python 3",
      "name": "python3"
    },
    "language_info": {
      "name": "python"
    }
  },
  "nbformat": 4,
  "nbformat_minor": 0
}
