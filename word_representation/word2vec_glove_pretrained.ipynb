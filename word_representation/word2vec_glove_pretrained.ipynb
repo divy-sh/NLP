{
  "cells": [
    {
      "cell_type": "code",
      "execution_count": 1,
      "metadata": {
        "colab": {
          "base_uri": "https://localhost:8080/"
        },
        "id": "7sRZHsoPrm1I",
        "outputId": "dcf18cac-6d63-47d5-8fcd-1cc51289f6e6"
      },
      "outputs": [
        {
          "name": "stdout",
          "output_type": "stream",
          "text": [
            "Defaulting to user installation because normal site-packages is not writeable\n",
            "Requirement already satisfied: wget in /Users/divyendu/Library/Python/3.9/lib/python/site-packages (3.2)\n",
            "\n",
            "\u001b[1m[\u001b[0m\u001b[34;49mnotice\u001b[0m\u001b[1;39;49m]\u001b[0m\u001b[39;49m A new release of pip is available: \u001b[0m\u001b[31;49m24.0\u001b[0m\u001b[39;49m -> \u001b[0m\u001b[32;49m25.0.1\u001b[0m\n",
            "\u001b[1m[\u001b[0m\u001b[34;49mnotice\u001b[0m\u001b[1;39;49m]\u001b[0m\u001b[39;49m To update, run: \u001b[0m\u001b[32;49m/Library/Developer/CommandLineTools/usr/bin/python3 -m pip install --upgrade pip\u001b[0m\n",
            "Note: you may need to restart the kernel to use updated packages.\n",
            "Defaulting to user installation because normal site-packages is not writeable\n",
            "Requirement already satisfied: gensim in /Users/divyendu/Library/Python/3.9/lib/python/site-packages (4.3.3)\n",
            "Requirement already satisfied: numpy<2.0,>=1.18.5 in /Users/divyendu/Library/Python/3.9/lib/python/site-packages (from gensim) (1.26.3)\n",
            "Requirement already satisfied: scipy<1.14.0,>=1.7.0 in /Users/divyendu/Library/Python/3.9/lib/python/site-packages (from gensim) (1.13.0)\n",
            "Requirement already satisfied: smart-open>=1.8.1 in /Users/divyendu/Library/Python/3.9/lib/python/site-packages (from gensim) (7.1.0)\n",
            "Requirement already satisfied: wrapt in /Users/divyendu/Library/Python/3.9/lib/python/site-packages (from smart-open>=1.8.1->gensim) (1.14.1)\n",
            "\n",
            "\u001b[1m[\u001b[0m\u001b[34;49mnotice\u001b[0m\u001b[1;39;49m]\u001b[0m\u001b[39;49m A new release of pip is available: \u001b[0m\u001b[31;49m24.0\u001b[0m\u001b[39;49m -> \u001b[0m\u001b[32;49m25.0.1\u001b[0m\n",
            "\u001b[1m[\u001b[0m\u001b[34;49mnotice\u001b[0m\u001b[1;39;49m]\u001b[0m\u001b[39;49m To update, run: \u001b[0m\u001b[32;49m/Library/Developer/CommandLineTools/usr/bin/python3 -m pip install --upgrade pip\u001b[0m\n",
            "Note: you may need to restart the kernel to use updated packages.\n",
            "Defaulting to user installation because normal site-packages is not writeable\n",
            "Requirement already satisfied: tqdm in /Users/divyendu/Library/Python/3.9/lib/python/site-packages (4.66.2)\n",
            "\n",
            "\u001b[1m[\u001b[0m\u001b[34;49mnotice\u001b[0m\u001b[1;39;49m]\u001b[0m\u001b[39;49m A new release of pip is available: \u001b[0m\u001b[31;49m24.0\u001b[0m\u001b[39;49m -> \u001b[0m\u001b[32;49m25.0.1\u001b[0m\n",
            "\u001b[1m[\u001b[0m\u001b[34;49mnotice\u001b[0m\u001b[1;39;49m]\u001b[0m\u001b[39;49m To update, run: \u001b[0m\u001b[32;49m/Library/Developer/CommandLineTools/usr/bin/python3 -m pip install --upgrade pip\u001b[0m\n",
            "Note: you may need to restart the kernel to use updated packages.\n",
            "Defaulting to user installation because normal site-packages is not writeable\n",
            "Requirement already satisfied: pandas in /Users/divyendu/Library/Python/3.9/lib/python/site-packages (2.2.3)\n",
            "Requirement already satisfied: numpy>=1.22.4 in /Users/divyendu/Library/Python/3.9/lib/python/site-packages (from pandas) (1.26.3)\n",
            "Requirement already satisfied: python-dateutil>=2.8.2 in /Users/divyendu/Library/Python/3.9/lib/python/site-packages (from pandas) (2.9.0.post0)\n",
            "Requirement already satisfied: pytz>=2020.1 in /Users/divyendu/Library/Python/3.9/lib/python/site-packages (from pandas) (2025.1)\n",
            "Requirement already satisfied: tzdata>=2022.7 in /Users/divyendu/Library/Python/3.9/lib/python/site-packages (from pandas) (2025.1)\n",
            "Requirement already satisfied: six>=1.5 in /Library/Developer/CommandLineTools/Library/Frameworks/Python3.framework/Versions/3.9/lib/python3.9/site-packages (from python-dateutil>=2.8.2->pandas) (1.15.0)\n",
            "\n",
            "\u001b[1m[\u001b[0m\u001b[34;49mnotice\u001b[0m\u001b[1;39;49m]\u001b[0m\u001b[39;49m A new release of pip is available: \u001b[0m\u001b[31;49m24.0\u001b[0m\u001b[39;49m -> \u001b[0m\u001b[32;49m25.0.1\u001b[0m\n",
            "\u001b[1m[\u001b[0m\u001b[34;49mnotice\u001b[0m\u001b[1;39;49m]\u001b[0m\u001b[39;49m To update, run: \u001b[0m\u001b[32;49m/Library/Developer/CommandLineTools/usr/bin/python3 -m pip install --upgrade pip\u001b[0m\n",
            "Note: you may need to restart the kernel to use updated packages.\n",
            "Defaulting to user installation because normal site-packages is not writeable\n",
            "Requirement already satisfied: scikit-learn in /Users/divyendu/Library/Python/3.9/lib/python/site-packages (1.6.1)\n",
            "Requirement already satisfied: numpy>=1.19.5 in /Users/divyendu/Library/Python/3.9/lib/python/site-packages (from scikit-learn) (1.26.3)\n",
            "Requirement already satisfied: scipy>=1.6.0 in /Users/divyendu/Library/Python/3.9/lib/python/site-packages (from scikit-learn) (1.13.0)\n",
            "Requirement already satisfied: joblib>=1.2.0 in /Users/divyendu/Library/Python/3.9/lib/python/site-packages (from scikit-learn) (1.4.2)\n",
            "Requirement already satisfied: threadpoolctl>=3.1.0 in /Users/divyendu/Library/Python/3.9/lib/python/site-packages (from scikit-learn) (3.5.0)\n",
            "\n",
            "\u001b[1m[\u001b[0m\u001b[34;49mnotice\u001b[0m\u001b[1;39;49m]\u001b[0m\u001b[39;49m A new release of pip is available: \u001b[0m\u001b[31;49m24.0\u001b[0m\u001b[39;49m -> \u001b[0m\u001b[32;49m25.0.1\u001b[0m\n",
            "\u001b[1m[\u001b[0m\u001b[34;49mnotice\u001b[0m\u001b[1;39;49m]\u001b[0m\u001b[39;49m To update, run: \u001b[0m\u001b[32;49m/Library/Developer/CommandLineTools/usr/bin/python3 -m pip install --upgrade pip\u001b[0m\n",
            "Note: you may need to restart the kernel to use updated packages.\n"
          ]
        }
      ],
      "source": [
        "# install requirements\n",
        "%pip install wget\n",
        "%pip install gensim\n",
        "%pip install tqdm\n",
        "%pip install pandas\n",
        "%pip install scikit-learn"
      ]
    },
    {
      "cell_type": "code",
      "execution_count": 2,
      "metadata": {
        "colab": {
          "base_uri": "https://localhost:8080/"
        },
        "id": "3wNMEna9u4Gm",
        "outputId": "88627ac3-b9a5-4ccc-ecba-852b77de35cf"
      },
      "outputs": [
        {
          "name": "stderr",
          "output_type": "stream",
          "text": [
            "/Users/divyendu/Library/Python/3.9/lib/python/site-packages/urllib3/__init__.py:35: NotOpenSSLWarning: urllib3 v2 only supports OpenSSL 1.1.1+, currently the 'ssl' module is compiled with 'LibreSSL 2.8.3'. See: https://github.com/urllib3/urllib3/issues/3020\n",
            "  warnings.warn(\n"
          ]
        }
      ],
      "source": [
        "# import required packages\n",
        "import gensim\n",
        "import numpy as np\n",
        "from tqdm import tqdm\n",
        "from sklearn.metrics.pairwise import cosine_similarity\n",
        "from gensim.models.keyedvectors import KeyedVectors\n",
        "import pandas as pd"
      ]
    },
    {
      "cell_type": "code",
      "execution_count": 3,
      "metadata": {},
      "outputs": [],
      "source": [
        "# load models word2vec and glove\n",
        "# download and extract the files mentioned to the root of the directory\n",
        "# downloaded from https://dl.fbaipublicfiles.com/fasttext/vectors-english/wiki-news-300d-1M.vec.zip\n",
        "word2vec = KeyedVectors.load_word2vec_format(\"wiki-news-300d-1M.vec\", binary=False)\n",
        "# downloaded from https://drive.google.com/file/d/0B7XkCwpI5KDYNlNUTTlSS21pQmM\n",
        "glove = KeyedVectors.load_word2vec_format(\"glove.6B.100d.txt\", no_header=True, binary=False)"
      ]
    },
    {
      "cell_type": "code",
      "execution_count": 4,
      "metadata": {},
      "outputs": [],
      "source": [
        "# list of all relations we need to test.\n",
        "relations_to_test = [\n",
        "    'capital-world', 'currency', 'city-in-state', 'family',\n",
        "    'gram1-adjective-to-adverb', 'gram2-opposite', 'gram3-comparative', 'gram6-nationality-adjective'\n",
        "]\n",
        "\n",
        "# we store the processed analogy data we read from the text file in this.\n",
        "analogy_data = {}\n",
        "\n",
        "relation = None\n",
        "# read analogy data from the file\n",
        "with open('word-test.v1.txt', 'r', encoding='utf-8') as f:\n",
        "    for line in f:\n",
        "        if line.startswith(':'):        \n",
        "            relation = line.strip()\n",
        "            relation = relation[2:].strip()\n",
        "            if relation not in relations_to_test:\n",
        "                relation = None\n",
        "            else:\n",
        "                analogy_data[relation] = []\n",
        "\n",
        "        if relation in analogy_data:\n",
        "            words = line.lower().split()\n",
        "            if len(words) == 4:\n",
        "                a, b, c, d_true = words\n",
        "                analogy_data[relation].append((a, b, c, d_true))\n"
      ]
    },
    {
      "cell_type": "code",
      "execution_count": 5,
      "metadata": {},
      "outputs": [
        {
          "name": "stdout",
          "output_type": "stream",
          "text": [
            "Running analogy test with GloVe...\n",
            "running analogy test for capital-world\n"
          ]
        },
        {
          "name": "stderr",
          "output_type": "stream",
          "text": [
            "100%|██████████| 1000/1000 [02:57<00:00,  5.63it/s]\n"
          ]
        },
        {
          "name": "stdout",
          "output_type": "stream",
          "text": [
            "running analogy test for currency\n"
          ]
        },
        {
          "name": "stderr",
          "output_type": "stream",
          "text": [
            "100%|██████████| 866/866 [02:52<00:00,  5.01it/s]\n"
          ]
        },
        {
          "name": "stdout",
          "output_type": "stream",
          "text": [
            "running analogy test for city-in-state\n"
          ]
        },
        {
          "name": "stderr",
          "output_type": "stream",
          "text": [
            "100%|██████████| 1000/1000 [03:08<00:00,  5.30it/s]\n"
          ]
        },
        {
          "name": "stdout",
          "output_type": "stream",
          "text": [
            "running analogy test for family\n"
          ]
        },
        {
          "name": "stderr",
          "output_type": "stream",
          "text": [
            "100%|██████████| 506/506 [01:37<00:00,  5.18it/s]\n"
          ]
        },
        {
          "name": "stdout",
          "output_type": "stream",
          "text": [
            "running analogy test for gram1-adjective-to-adverb\n"
          ]
        },
        {
          "name": "stderr",
          "output_type": "stream",
          "text": [
            "100%|██████████| 992/992 [03:06<00:00,  5.31it/s]\n"
          ]
        },
        {
          "name": "stdout",
          "output_type": "stream",
          "text": [
            "running analogy test for gram2-opposite\n"
          ]
        },
        {
          "name": "stderr",
          "output_type": "stream",
          "text": [
            "100%|██████████| 812/812 [02:43<00:00,  4.97it/s]\n"
          ]
        },
        {
          "name": "stdout",
          "output_type": "stream",
          "text": [
            "running analogy test for gram3-comparative\n"
          ]
        },
        {
          "name": "stderr",
          "output_type": "stream",
          "text": [
            "100%|██████████| 1000/1000 [03:24<00:00,  4.88it/s]\n"
          ]
        },
        {
          "name": "stdout",
          "output_type": "stream",
          "text": [
            "running analogy test for gram6-nationality-adjective\n"
          ]
        },
        {
          "name": "stderr",
          "output_type": "stream",
          "text": [
            "100%|██████████| 1000/1000 [03:19<00:00,  5.01it/s]\n"
          ]
        },
        {
          "name": "stdout",
          "output_type": "stream",
          "text": [
            "\n",
            "--- Accuracy per Relation ---\n",
            "capital-world: Accuracy = 86.50% (865/1000)\n",
            "currency: Accuracy = 14.55% (126/866)\n",
            "city-in-state: Accuracy = 28.00% (280/1000)\n",
            "family: Accuracy = 80.04% (405/506)\n",
            "gram1-adjective-to-adverb: Accuracy = 23.59% (234/992)\n",
            "gram2-opposite: Accuracy = 20.20% (164/812)\n",
            "gram3-comparative: Accuracy = 78.70% (787/1000)\n",
            "gram6-nationality-adjective: Accuracy = 87.40% (874/1000)\n",
            "\n",
            "Overall Accuracy: 52.05% (3735/7176)\n",
            "Running analogy test with Word2Vec...\n",
            "running analogy test for capital-world\n"
          ]
        },
        {
          "name": "stderr",
          "output_type": "stream",
          "text": [
            "100%|██████████| 1000/1000 [05:52<00:00,  2.84it/s]\n"
          ]
        },
        {
          "name": "stdout",
          "output_type": "stream",
          "text": [
            "running analogy test for currency\n"
          ]
        },
        {
          "name": "stderr",
          "output_type": "stream",
          "text": [
            "100%|██████████| 866/866 [11:52<00:00,  1.21it/s]\n"
          ]
        },
        {
          "name": "stdout",
          "output_type": "stream",
          "text": [
            "running analogy test for city-in-state\n"
          ]
        },
        {
          "name": "stderr",
          "output_type": "stream",
          "text": [
            "100%|██████████| 1000/1000 [12:07<00:00,  1.37it/s]\n"
          ]
        },
        {
          "name": "stdout",
          "output_type": "stream",
          "text": [
            "running analogy test for family\n"
          ]
        },
        {
          "name": "stderr",
          "output_type": "stream",
          "text": [
            "100%|██████████| 506/506 [06:57<00:00,  1.21it/s]\n"
          ]
        },
        {
          "name": "stdout",
          "output_type": "stream",
          "text": [
            "running analogy test for gram1-adjective-to-adverb\n"
          ]
        },
        {
          "name": "stderr",
          "output_type": "stream",
          "text": [
            "100%|██████████| 992/992 [13:37<00:00,  1.21it/s]\n"
          ]
        },
        {
          "name": "stdout",
          "output_type": "stream",
          "text": [
            "running analogy test for gram2-opposite\n"
          ]
        },
        {
          "name": "stderr",
          "output_type": "stream",
          "text": [
            "100%|██████████| 812/812 [11:09<00:00,  1.21it/s]\n"
          ]
        },
        {
          "name": "stdout",
          "output_type": "stream",
          "text": [
            "running analogy test for gram3-comparative\n"
          ]
        },
        {
          "name": "stderr",
          "output_type": "stream",
          "text": [
            "100%|██████████| 1000/1000 [14:01<00:00,  1.19it/s]\n"
          ]
        },
        {
          "name": "stdout",
          "output_type": "stream",
          "text": [
            "running analogy test for gram6-nationality-adjective\n"
          ]
        },
        {
          "name": "stderr",
          "output_type": "stream",
          "text": [
            "100%|██████████| 1000/1000 [15:40<00:00,  1.06it/s] "
          ]
        },
        {
          "name": "stdout",
          "output_type": "stream",
          "text": [
            "\n",
            "--- Accuracy per Relation ---\n",
            "capital-world: Accuracy = 18.20% (182/1000)\n",
            "currency: Accuracy = 36.72% (318/866)\n",
            "city-in-state: Accuracy = 23.60% (236/1000)\n",
            "family: Accuracy = 91.11% (461/506)\n",
            "gram1-adjective-to-adverb: Accuracy = 41.03% (407/992)\n",
            "gram2-opposite: Accuracy = 56.40% (458/812)\n",
            "gram3-comparative: Accuracy = 91.60% (916/1000)\n",
            "gram6-nationality-adjective: Accuracy = 79.80% (798/1000)\n",
            "\n",
            "Overall Accuracy: 52.62% (3776/7176)\n",
            "\n",
            "--- Accuracy Comparison Table ---\n",
            "Relation                       GloVe Accuracy  Word2Vec Accuracy\n",
            "------------------------------------------------------------\n",
            "capital-world                  86.50          % 18.20          %\n",
            "currency                       14.55          % 36.72          %\n",
            "city-in-state                  28.00          % 23.60          %\n",
            "family                         80.04          % 91.11          %\n",
            "gram1-adjective-to-adverb      23.59          % 41.03          %\n",
            "gram2-opposite                 20.20          % 56.40          %\n",
            "gram3-comparative              78.70          % 91.60          %\n",
            "gram6-nationality-adjective    87.40          % 79.80          %\n",
            "------------------------------------------------------------\n",
            "Overall                        52.05          % 52.62          %\n"
          ]
        },
        {
          "name": "stderr",
          "output_type": "stream",
          "text": [
            "\n"
          ]
        }
      ],
      "source": [
        "# Analogy Prediction\n",
        "def predict_analogy(embeddings, a, b, c):\n",
        "    if a not in embeddings.key_to_index or b not in embeddings.key_to_index or c not in embeddings.key_to_index:\n",
        "        return None\n",
        "\n",
        "    diff = embeddings[b] - embeddings[a] + embeddings[c]\n",
        "    diff_norm = diff / np.linalg.norm(diff) # pre-normalize diff\n",
        "\n",
        "    # Get all word embeddings and normalize them (optional, but can be beneficial)\n",
        "    all_embeddings = embeddings.vectors\n",
        "    all_embeddings_norm = all_embeddings / np.linalg.norm(all_embeddings, axis=1, keepdims=True)\n",
        "\n",
        "    # Vectorized cosine similarity calculation\n",
        "    cosine_similarities = cosine_similarity(all_embeddings_norm, diff_norm.reshape(1, -1)).flatten()\n",
        "\n",
        "    max_similarity_index = -1\n",
        "    max_cosine_similairty = -1\n",
        "    predicted_d = None\n",
        "\n",
        "    exclude_indices = {embeddings.key_to_index[a], embeddings.key_to_index[b], embeddings.key_to_index[c]}\n",
        "\n",
        "    # loop through the whole vocab to find the max similarity word.\n",
        "    for index, similarity in enumerate(cosine_similarities):\n",
        "        if index not in exclude_indices: # Exclude a, b, c\n",
        "            if max_cosine_similairty < similarity:\n",
        "                max_cosine_similairty = similarity\n",
        "                max_similarity_index = index\n",
        "\n",
        "    if max_similarity_index != -1:\n",
        "        predicted_d = embeddings.index_to_key[max_similarity_index]\n",
        "\n",
        "    return predicted_d\n",
        "\n",
        "# Load Analogy Dataset and Run Tests\n",
        "\n",
        "def run_analogy_test(embeddings):\n",
        "    relation_accuracies = {}\n",
        "    overall_correct_count = 0\n",
        "    overall_total_count = 0\n",
        "\n",
        "    # loop throguth analogy_data and run analogy test on all of them\n",
        "    for relation in analogy_data:\n",
        "        relation_accuracies[relation] = {'correct': 0, 'total': 0}\n",
        "        print(f\"running analogy test for {relation}\")\n",
        "        # running on only 1000 max as this is a large dataset and 1000 will caputure accuracy efficiently.\n",
        "        for word_tuple in tqdm(analogy_data[relation][:min(1000, len(analogy_data[relation]))]):\n",
        "            a, b, c, d_true = word_tuple\n",
        "            predicted_d = predict_analogy(embeddings, a, b, c)\n",
        "\n",
        "            if predicted_d == d_true: # Correct prediction\n",
        "                relation_accuracies[relation]['correct'] += 1\n",
        "                overall_correct_count += 1\n",
        "            relation_accuracies[relation]['total'] += 1\n",
        "            overall_total_count += 1\n",
        "\n",
        "    print(\"\\n--- Accuracy per Relation ---\")\n",
        "    for relation, counts in relation_accuracies.items():\n",
        "        accuracy = (counts['correct'] / counts['total']) * 100 if counts['total'] > 0 else 0.0\n",
        "        print(f\"{relation}: Accuracy = {accuracy:.2f}% ({counts['correct']}/{counts['total']})\")\n",
        "\n",
        "    overall_accuracy = (overall_correct_count / overall_total_count) * 100 if overall_total_count > 0 else 0.0\n",
        "    print(f\"\\nOverall Accuracy: {overall_accuracy:.2f}% ({overall_correct_count}/{overall_total_count})\")\n",
        "    return relation_accuracies, overall_accuracy\n",
        "\n",
        "print(\"Running analogy test with GloVe...\")\n",
        "glove_relation_accuracies, glove_overall_accuracy = run_analogy_test(glove)\n",
        "\n",
        "print(\"Running analogy test with Word2Vec...\")\n",
        "word2vec_relation_accuracies, word2vec_overall_accuracy = run_analogy_test(word2vec)\n",
        "\n",
        "print(\"\\n--- Accuracy Comparison Table ---\")\n",
        "print(\"{:<30} {:<15} {:<15}\".format('Relation', 'GloVe Accuracy', 'Word2Vec Accuracy'))\n",
        "print(\"-\" * 60)\n",
        "for relation in relations_to_test:\n",
        "    glove_acc = (glove_relation_accuracies[relation]['correct'] / glove_relation_accuracies[relation]['total']) * 100 if glove_relation_accuracies[relation]['total'] > 0 else 0.0\n",
        "    w2v_acc = (word2vec_relation_accuracies[relation]['correct'] / word2vec_relation_accuracies[relation]['total']) * 100 if word2vec_relation_accuracies[relation]['total'] > 0 else 0.0\n",
        "    print(\"{:<30} {:<15.2f}% {:<15.2f}%\".format(relation, glove_acc, w2v_acc))\n",
        "print(\"-\" * 60)\n",
        "print(\"{:<30} {:<15.2f}% {:<15.2f}%\".format('Overall', glove_overall_accuracy, word2vec_overall_accuracy))"
      ]
    },
    {
      "cell_type": "code",
      "execution_count": 6,
      "metadata": {},
      "outputs": [
        {
          "name": "stdout",
          "output_type": "stream",
          "text": [
            "\n",
            "Top 10 words similar to 'increase' (glove): increased, increases, decrease, increasing, reduce, rise, reduced, growth, reduction, boost\n",
            "\n",
            "Top 10 words similar to 'increase' (word2vec): decrease, reduce, increases, increased, increasing, diminish, enhance, lessen, decreasing, decreases\n",
            "\n",
            "Top 10 words similar to 'enter' (glove): entering, leave, join, go, able, return, entered, allow, take, participate\n",
            "\n",
            "Top 10 words similar to 'enter' (word2vec): re-enter, reenter, entering, entered, join, enters, leave, obtain, reach, submit\n",
            "\n",
            "Top 10 words similar to 'start' (glove): starting, coming, next, begin, going, end, started, before, time, beginning\n",
            "\n",
            "Top 10 words similar to 'start' (word2vec): begin, starting, beginning, finish, end, starts, go, stop, commence, started\n",
            "\n",
            "Top 10 words similar to 'build' (glove): develop, construct, expand, create, establish, building, maintain, provide, built, plans\n",
            "\n",
            "Top 10 words similar to 'build' (word2vec): develop, construct, create, rebuild, maintain, establish, built, builds, assemble, acquire\n"
          ]
        }
      ],
      "source": [
        "from scipy.spatial.distance import cosine\n",
        "\n",
        "# function to get top 10 similar words to the given word\n",
        "def get_top_similar_words(embeddings, target_word, top_n=10):\n",
        "    if target_word not in embeddings:\n",
        "        return []\n",
        "\n",
        "    target_vector = embeddings[target_word]  # Get the actual word vector\n",
        "    similarities = []\n",
        "    \n",
        "    for word in embeddings.key_to_index:  # Iterate over vocabulary\n",
        "        if word != target_word:\n",
        "            similarity = 1 - cosine(target_vector, embeddings[word])\n",
        "            similarities.append((word, similarity))\n",
        "\n",
        "    similarities.sort(key=lambda item: item[1], reverse=True)  # Sort by similarity descending\n",
        "    return [word for word, similarity in similarities[:top_n]]\n",
        "\n",
        "# check top simial for all of these words\n",
        "verbs_to_test = [\"increase\", \"enter\", \"start\", \"build\"]\n",
        "for verb in verbs_to_test:\n",
        "    top_similar = get_top_similar_words(glove, verb)\n",
        "    print(f\"\\nTop 10 words similar to '{verb}' (glove): {', '.join(top_similar)}\")\n",
        "    top_similar = get_top_similar_words(word2vec, verb)\n",
        "    print(f\"\\nTop 10 words similar to '{verb}' (word2vec): {', '.join(top_similar)}\")"
      ]
    },
    {
      "cell_type": "code",
      "execution_count": 7,
      "metadata": {},
      "outputs": [
        {
          "name": "stdout",
          "output_type": "stream",
          "text": [
            "\n",
            "--- Testing GloVe on New Analogies ---\n",
            "\n",
            "--- Testing on New Analogy Type: reason-effect ---\n",
            "Question: rain is to flood as fire is to ?  True answer: burn, Predicted: building\n",
            "Question: study is to success as exercise is to ?  True answer: fitness, Predicted: strength\n",
            "Question: virus is to illness as bacteria is to ?  True answer: infection, Predicted: illnesses\n",
            "\n",
            "--- Testing on New Analogy Type: animal-baby ---\n",
            "Question: lion is to cub as dog is to ?  True answer: puppy, Predicted: puppy\n",
            "Question: cat is to kitten as elephant is to ?  True answer: calf, Predicted: rhinoceros\n",
            "Question: walrus is to calf as horse is to ?  True answer: foal, Predicted: foot\n",
            "\n",
            "Accuracy on New Analogies: 16.67% (1/6)\n",
            "\n",
            "--- Testing Word2Vec on New Analogies ---\n",
            "\n",
            "--- Testing on New Analogy Type: reason-effect ---\n",
            "Question: rain is to flood as fire is to ?  True answer: burn, Predicted: fires\n",
            "Question: study is to success as exercise is to ?  True answer: fitness, Predicted: exercising\n",
            "Question: virus is to illness as bacteria is to ?  True answer: infection, Predicted: illnesses\n",
            "\n",
            "--- Testing on New Analogy Type: animal-baby ---\n",
            "Question: lion is to cub as dog is to ?  True answer: puppy, Predicted: pup\n",
            "Question: cat is to kitten as elephant is to ?  True answer: calf, Predicted: elephants\n",
            "Question: walrus is to calf as horse is to ?  True answer: foal, Predicted: horses\n",
            "\n",
            "Accuracy on New Analogies: 0.00% (0/6)\n"
          ]
        }
      ],
      "source": [
        "# create and test 2 new analogies\n",
        "def test_on_new_analogies(embeddings, new_analogy_questions):\n",
        "    correct_count = 0\n",
        "    total_count = 0\n",
        "    for question_type, questions in new_analogy_questions.items():\n",
        "        print(f\"\\n--- Testing on New Analogy Type: {question_type} ---\")\n",
        "        for a, b, c, d_true in questions:\n",
        "            predicted_d = predict_analogy(embeddings, a, b, c)\n",
        "            print(f\"Question: {a} is to {b} as {c} is to ?  True answer: {d_true}, Predicted: {predicted_d}\")\n",
        "            if predicted_d == d_true:\n",
        "                correct_count += 1\n",
        "            total_count += 1\n",
        "\n",
        "    accuracy = (correct_count / total_count) * 100 if total_count > 0 else 0.0\n",
        "    print(f\"\\nAccuracy on New Analogies: {accuracy:.2f}% ({correct_count}/{total_count})\")\n",
        "    return accuracy\n",
        "\n",
        "new_analogy_questions = {\n",
        "    # analogy to test what happens as an outcome of something\n",
        "    \"reason-effect\": [\n",
        "        (\"rain\", \"flood\", \"fire\", \"burn\"),\n",
        "        (\"study\", \"success\", \"exercise\", \"fitness\"),\n",
        "        (\"virus\", \"illness\", \"bacteria\", \"infection\"),\n",
        "    ],\n",
        "    # analogy to test animal to baby name mapping\n",
        "    \"animal-baby\": [\n",
        "        (\"lion\", \"cub\", \"dog\", \"puppy\"),\n",
        "        (\"cat\", \"kitten\", \"elephant\", \"calf\"),\n",
        "        (\"walrus\", \"calf\", \"horse\", \"foal\"),\n",
        "    ]\n",
        "}\n",
        "\n",
        "print(\"\\n--- Testing GloVe on New Analogies ---\")\n",
        "glove_new_analogy_accuracy = test_on_new_analogies(glove, new_analogy_questions)\n",
        "print(\"\\n--- Testing Word2Vec on New Analogies ---\")\n",
        "word2vec_new_analogy_accuracy = test_on_new_analogies(word2vec, new_analogy_questions)"
      ]
    }
  ],
  "metadata": {
    "colab": {
      "provenance": []
    },
    "kernelspec": {
      "display_name": "Python 3",
      "name": "python3"
    },
    "language_info": {
      "codemirror_mode": {
        "name": "ipython",
        "version": 3
      },
      "file_extension": ".py",
      "mimetype": "text/x-python",
      "name": "python",
      "nbconvert_exporter": "python",
      "pygments_lexer": "ipython3",
      "version": "3.9.6"
    }
  },
  "nbformat": 4,
  "nbformat_minor": 0
}
